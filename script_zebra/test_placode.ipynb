{
 "cells": [
  {
   "cell_type": "code",
   "execution_count": null,
   "id": "initial_id",
   "metadata": {
    "collapsed": true
   },
   "outputs": [],
   "source": [
    ""
   ]
  },
  {
   "metadata": {},
   "cell_type": "code",
   "outputs": [],
   "execution_count": null,
   "source": "## Example notebook for running CellStitch",
   "id": "527d40ee5a4ff0e7"
  },
  {
   "metadata": {
    "ExecuteTime": {
     "end_time": "2024-05-14T15:29:56.054318Z",
     "start_time": "2024-05-14T15:29:56.048937Z"
    }
   },
   "cell_type": "code",
   "source": [
    "import os\n",
    "import time\n",
    "\n",
    "import numpy as np\n",
    "import torch\n",
    "import tifffile\n",
    "from cellpose.models import Cellpose\n",
    "from skimage import io\n",
    "\n",
    "from cellstitch.pipeline import full_stitch"
   ],
   "id": "b14afd3e1df38f53",
   "outputs": [],
   "execution_count": 13
  },
  {
   "metadata": {
    "ExecuteTime": {
     "end_time": "2024-05-14T14:54:51.905276Z",
     "start_time": "2024-05-14T14:54:51.901021Z"
    }
   },
   "cell_type": "code",
   "source": [
    "# Plotting specifications\n",
    "from matplotlib import rcParams\n",
    "from IPython.display import display\n",
    "rcParams.update({'font.size': 10})"
   ],
   "id": "f6a5b86d21c47e7d",
   "outputs": [],
   "execution_count": 2
  },
  {
   "metadata": {},
   "cell_type": "markdown",
   "source": "### (1). Load example pairs of raw image & ground-truth mask",
   "id": "89e3f8a3e01ae04f"
  },
  {
   "metadata": {
    "ExecuteTime": {
     "end_time": "2024-05-14T15:24:15.723128Z",
     "start_time": "2024-05-14T15:24:15.718535Z"
    }
   },
   "cell_type": "code",
   "source": [
    "# Fill in filename for raw image (including the paths)\n",
    "filename = \"/home/clement/Images/zebra_sketchpose/20240513_OmpYFP_84mKate_O40_05u_80u_12ss_Position3_2_cmle_ch00.tif\"\n",
    "\n",
    "# Fill in on the path you would like to store the stitched mask\n",
    "output_path = \"/home/clement/Images/zebra_sketchpose/\"\n",
    "output_filename = '20240513_OmpYFP_84mKate_O40_05u_80u_12ss_Position3_2_cmle_ch00_seg.tif'"
   ],
   "id": "c21cbc0497363730",
   "outputs": [],
   "execution_count": 4
  },
  {
   "metadata": {},
   "cell_type": "markdown",
   "source": [
    "Example code snippet\n",
    "```python\n",
    "filename = '../data/plant_atlas/Anther/Anther_20.tif'\n",
    "maskname = '../data/plant_atlas/Anther_masks/Anther_20.tif'\n",
    "\n",
    "output_path = '../results/'\n",
    "if not os.exist(output_path):\n",
    "    os.makedirs(output_path, exist_ok=True)\n",
    "    \n",
    "output_filename = 'cellstitch_sample_pred.npy'\n",
    "```"
   ],
   "id": "babecc9d4ce6a030"
  },
  {
   "metadata": {
    "ExecuteTime": {
     "end_time": "2024-05-14T15:24:21.979703Z",
     "start_time": "2024-05-14T15:24:21.618134Z"
    }
   },
   "cell_type": "code",
   "source": [
    "# Load image & masks\n",
    "if filename[-3:] == 'npy':  # image in .npy format\n",
    "    img = np.load(filename)\n",
    "elif filename[-3:] == 'tif': # imagge in TIFF format\n",
    "    img = tifffile.imread(filename)\n",
    "else:\n",
    "    try:\n",
    "        img = io.imread(filename)\n",
    "    except:\n",
    "        raise IOError('Failed to load image {}'.format(filename))\n",
    "\n",
    "\"\"\"if maskname[-3:] == 'npy':  # image in .npy format\n",
    "    mask = np.load(maskname)\n",
    "elif filename[-3:] == 'tif': # imagge in TIFF format\n",
    "    mask = tifffile.imread(maskname)\n",
    "else:\n",
    "    try:\n",
    "        mask = io.imread(maskname)\n",
    "    except:\n",
    "        raise IOError('Failed to load image {}'.format(filename))\"\"\"\n"
   ],
   "id": "4a2bfbdef96ccd37",
   "outputs": [
    {
     "data": {
      "text/plain": [
       "\"if maskname[-3:] == 'npy':  # image in .npy format\\n    mask = np.load(maskname)\\nelif filename[-3:] == 'tif': # imagge in TIFF format\\n    mask = tifffile.imread(maskname)\\nelse:\\n    try:\\n        mask = io.imread(maskname)\\n    except:\\n        raise IOError('Failed to load image {}'.format(filename))\""
      ]
     },
     "execution_count": 5,
     "metadata": {},
     "output_type": "execute_result"
    }
   ],
   "execution_count": 5
  },
  {
   "metadata": {},
   "cell_type": "markdown",
   "source": "### (2). Define configs & parameters",
   "id": "acd71f80b5825307"
  },
  {
   "metadata": {
    "ExecuteTime": {
     "end_time": "2024-05-14T15:27:59.294586Z",
     "start_time": "2024-05-14T15:27:59.223047Z"
    }
   },
   "cell_type": "code",
   "source": [
    "# load cellpose model for backbone segmentation\n",
    "# you can also replace with any 2D segmentation model that works the best for your dataset\n",
    "flow_threshold = 0.4\n",
    "use_gpu = True if torch.cuda.is_available() else False\n",
    "if use_gpu is True:\n",
    "    print(\"Using GPU\")\n",
    "model = Cellpose(model_type='cyto3', gpu=use_gpu)\n"
   ],
   "id": "8628316bc4e2cb01",
   "outputs": [
    {
     "name": "stdout",
     "output_type": "stream",
     "text": [
      "Using GPU\n"
     ]
    }
   ],
   "execution_count": 9
  },
  {
   "metadata": {},
   "cell_type": "markdown",
   "source": "### (3). Run CellStitch",
   "id": "c566deaf29fc660c"
  },
  {
   "metadata": {},
   "cell_type": "code",
   "outputs": [],
   "execution_count": null,
   "source": [
    "tic = time.time()\n",
    "xy_masks, _, _, _ = model.eval(list(img), flow_threshold=flow_threshold, channels = [0,0], diameter=50)\n",
    "xy_masks = np.array(xy_masks)\n",
    "print(\"xy masks computed\")\n",
    "\n",
    "yz_masks, _, _, _ = model.eval(list(img.transpose(1,0,2)), flow_threshold=flow_threshold, channels = [0,0], diameter=30)\n",
    "yz_masks = np.array(yz_masks).transpose(1,0,2)\n",
    "print(\"yz masks computed\")\n",
    "\n",
    "xz_masks, _, _, _ = model.eval(list(img.transpose(2,1,0)), flow_threshold=flow_threshold, channels = [0,0], diameter=30)\n",
    "xz_masks = np.array(xz_masks).transpose(2,1,0)\n",
    "print(\"xz masks computed\")\n",
    "\n",
    "\n",
    "cellstitch_masks = full_stitch(xy_masks, yz_masks, xz_masks)\n",
    "\n",
    "computation_time = time.time() - tic\n",
    "print(\"Computation time: {}\".format(computation_time))"
   ],
   "id": "408e885dde97e3d5"
  },
  {
   "metadata": {},
   "cell_type": "markdown",
   "source": "### (4). Save the Stitching results:",
   "id": "3b85db15b6996e31"
  },
  {
   "metadata": {
    "ExecuteTime": {
     "end_time": "2024-05-15T15:08:01.362950Z",
     "start_time": "2024-05-15T15:08:00.363465Z"
    }
   },
   "cell_type": "code",
   "source": [
    "io.imsave(os.path.join(output_path, output_filename), cellstitch_masks)\n",
    "print(cellstitch_masks.shape)\n"
   ],
   "id": "6c3886a61de395d1",
   "outputs": [
    {
     "name": "stderr",
     "output_type": "stream",
     "text": [
      "/tmp/ipykernel_110555/2495679190.py:1: UserWarning: /home/clement/Images/zebra_sketchpose/20240513_OmpYFP_84mKate_O40_05u_80u_12ss_Position3_2_cmle_ch00_seg.tif is a low contrast image\n",
      "  io.imsave(os.path.join(output_path, output_filename), cellstitch_masks)\n"
     ]
    },
    {
     "name": "stdout",
     "output_type": "stream",
     "text": [
      "(181, 1433, 1003)\n"
     ]
    }
   ],
   "execution_count": 19
  },
  {
   "metadata": {
    "ExecuteTime": {
     "end_time": "2024-05-16T10:13:40.543759Z",
     "start_time": "2024-05-16T10:13:37.352195Z"
    }
   },
   "cell_type": "code",
   "source": [
    "import pygame\n",
    "from gtts import gTTS\n",
    "\n",
    "# Définir la phrase à dire en français\n",
    "phrase = (\"La segmentation est terminée\")\n",
    "\n",
    "# Utiliser gTTS pour générer le fichier audio en français\n",
    "tts = gTTS(text=phrase, lang='en-au')\n",
    "\n",
    "# Sauvegarder le fichier audio\n",
    "tts.save(\"segmentation_terminee.mp3\")\n",
    "\n",
    "# Initialiser Pygame\n",
    "pygame.init()\n",
    "\n",
    "# Charger le fichier audio\n",
    "pygame.mixer.music.load(\"segmentation_terminee.mp3\")\n",
    "\n",
    "# Jouer le fichier audio\n",
    "pygame.mixer.music.play()\n",
    "\n",
    "# Attendre que la lecture soit terminée\n",
    "while pygame.mixer.music.get_busy():\n",
    "    pygame.time.Clock().tick(10)  # Limiter la fréquence de rafraîchissement\n",
    "\n",
    "# Quitter Pygame\n",
    "pygame.quit()\n"
   ],
   "id": "b69a54cfcfa89b9d",
   "outputs": [],
   "execution_count": 100
  },
  {
   "metadata": {},
   "cell_type": "markdown",
   "source": "",
   "id": "51c0d23196685502"
  }
 ],
 "metadata": {
  "kernelspec": {
   "display_name": "Python 3",
   "language": "python",
   "name": "python3"
  },
  "language_info": {
   "codemirror_mode": {
    "name": "ipython",
    "version": 2
   },
   "file_extension": ".py",
   "mimetype": "text/x-python",
   "name": "python",
   "nbconvert_exporter": "python",
   "pygments_lexer": "ipython2",
   "version": "2.7.6"
  }
 },
 "nbformat": 4,
 "nbformat_minor": 5
}
